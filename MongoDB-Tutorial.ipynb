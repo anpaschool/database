{
 "cells": [
  {
   "cell_type": "markdown",
   "metadata": {},
   "source": [
    "## PyMongo Tutorial"
   ]
  },
  {
   "cell_type": "markdown",
   "metadata": {},
   "source": [
    "### 1. Create DataBase"
   ]
  },
  {
   "cell_type": "markdown",
   "metadata": {},
   "source": [
    "To create a database in MongoDB, start by creating a MongoClient object, then specify a connection URL with the correct ip address and the name of the database you want to create.\n",
    "\n",
    "MongoDB will create the database if it does not exist, and make a connection to it.\n",
    "\n",
    "**Example**\n",
    "\n",
    "Create a database called \"mydatabase\":"
   ]
  },
  {
   "cell_type": "code",
   "execution_count": 12,
   "metadata": {},
   "outputs": [],
   "source": [
    "import pymongo"
   ]
  },
  {
   "cell_type": "code",
   "execution_count": 13,
   "metadata": {},
   "outputs": [],
   "source": [
    "myclient = pymongo.MongoClient(\"mongodb://localhost:27017/\")"
   ]
  },
  {
   "cell_type": "markdown",
   "metadata": {},
   "source": [
    "**Drop the database if already exist to make a place for bran new database**"
   ]
  },
  {
   "cell_type": "code",
   "execution_count": 14,
   "metadata": {},
   "outputs": [],
   "source": [
    "myclient.drop_database('mydatabase')"
   ]
  },
  {
   "cell_type": "markdown",
   "metadata": {},
   "source": [
    "**Create new one**"
   ]
  },
  {
   "cell_type": "code",
   "execution_count": 4,
   "metadata": {},
   "outputs": [],
   "source": [
    "mydb = myclient[\"mydatabase\"]"
   ]
  },
  {
   "cell_type": "markdown",
   "metadata": {},
   "source": [
    "------------"
   ]
  },
  {
   "cell_type": "markdown",
   "metadata": {},
   "source": [
    "**Check if Database Exists**\n",
    "\n",
    "Remember: In MongoDB, a database is not created until it gets content, so if this is your first time creating a database, you should complete the next two chapters (create collection and create document) before you check if the database exists!\n",
    "\n",
    "You can check if a database exist by listing all databases in you system:\n",
    "\n",
    "**Example**\n",
    "\n",
    "Return a list of your system's databases:"
   ]
  },
  {
   "cell_type": "code",
   "execution_count": 11,
   "metadata": {},
   "outputs": [
    {
     "name": "stdout",
     "output_type": "stream",
     "text": [
      "['admin', 'config', 'donorschoose', 'mesa', 'migration']\n"
     ]
    }
   ],
   "source": [
    "print(myclient.list_database_names())"
   ]
  },
  {
   "cell_type": "code",
   "execution_count": 10,
   "metadata": {},
   "outputs": [],
   "source": [
    "#myclient.drop_database('mongopop')"
   ]
  },
  {
   "cell_type": "markdown",
   "metadata": {},
   "source": [
    "Or you can check a specific database by name:\n",
    "\n",
    "**Example**\n",
    "\n",
    "Check if \"mydatabase\" exists:"
   ]
  },
  {
   "cell_type": "code",
   "execution_count": 11,
   "metadata": {},
   "outputs": [
    {
     "ename": "TypeError",
     "evalue": "'Database' object is not callable. If you meant to call the 'list_database_names' method on a 'MongoClient' object it is failing because no such method exists.",
     "output_type": "error",
     "traceback": [
      "\u001b[0;31m---------------------------------------------------------------------------\u001b[0m",
      "\u001b[0;31mTypeError\u001b[0m                                 Traceback (most recent call last)",
      "\u001b[0;32m<ipython-input-11-628b2e1f8549>\u001b[0m in \u001b[0;36m<module>\u001b[0;34m()\u001b[0m\n\u001b[0;32m----> 1\u001b[0;31m \u001b[0mdblist\u001b[0m \u001b[0;34m=\u001b[0m \u001b[0mmyclient\u001b[0m\u001b[0;34m.\u001b[0m\u001b[0mlist_database_names\u001b[0m\u001b[0;34m(\u001b[0m\u001b[0;34m)\u001b[0m\u001b[0;34m\u001b[0m\u001b[0m\n\u001b[0m\u001b[1;32m      2\u001b[0m \u001b[0;32mif\u001b[0m \u001b[0;34m\"mydatabase\"\u001b[0m \u001b[0;32min\u001b[0m \u001b[0mdblist\u001b[0m\u001b[0;34m:\u001b[0m\u001b[0;34m\u001b[0m\u001b[0m\n\u001b[1;32m      3\u001b[0m   \u001b[0mprint\u001b[0m\u001b[0;34m(\u001b[0m\u001b[0;34m\"The database exists.\"\u001b[0m\u001b[0;34m)\u001b[0m\u001b[0;34m\u001b[0m\u001b[0m\n",
      "\u001b[0;32m~/anaconda2/envs/GenomX/lib/python3.6/site-packages/pymongo/database.py\u001b[0m in \u001b[0;36m__call__\u001b[0;34m(self, *args, **kwargs)\u001b[0m\n\u001b[1;32m   1048\u001b[0m                         \u001b[0;34m\"call the '%s' method on a '%s' object it is \"\u001b[0m\u001b[0;34m\u001b[0m\u001b[0m\n\u001b[1;32m   1049\u001b[0m                         \"failing because no such method exists.\" % (\n\u001b[0;32m-> 1050\u001b[0;31m                             self.__name, self.__connection.__class__.__name__))\n\u001b[0m\u001b[1;32m   1051\u001b[0m \u001b[0;34m\u001b[0m\u001b[0m\n\u001b[1;32m   1052\u001b[0m \u001b[0;34m\u001b[0m\u001b[0m\n",
      "\u001b[0;31mTypeError\u001b[0m: 'Database' object is not callable. If you meant to call the 'list_database_names' method on a 'MongoClient' object it is failing because no such method exists."
     ]
    }
   ],
   "source": [
    "dblist = myclient.list_database_names()\n",
    "if \"mydatabase\" in dblist:\n",
    "  print(\"The database exists.\")"
   ]
  },
  {
   "cell_type": "markdown",
   "metadata": {},
   "source": [
    "----------"
   ]
  },
  {
   "cell_type": "markdown",
   "metadata": {},
   "source": [
    "### 2. Python MongoDB Create Collection\n",
    "\n",
    "A collection in MongoDB is the same as a table in SQL databases.\n",
    "\n",
    "**Creating a Collection**\n",
    "\n",
    "To create a collection in MongoDB, use database object and specify the name of the collection you want to create.\n",
    "\n",
    "MongoDB will create the collection if it does not exist.\n",
    "\n",
    "**Example**\n",
    "\n",
    "Create a collection called \"customers\":"
   ]
  },
  {
   "cell_type": "code",
   "execution_count": 12,
   "metadata": {},
   "outputs": [],
   "source": [
    "import pymongo\n",
    "\n",
    "myclient = pymongo.MongoClient(\"mongodb://localhost:27017/\")\n",
    "mydb = myclient[\"mydatabase\"]\n",
    "\n",
    "mycol = mydb[\"customers\"]"
   ]
  },
  {
   "cell_type": "markdown",
   "metadata": {},
   "source": [
    "***Important: In MongoDB, a collection is not created until it gets content!***\n",
    "\n",
    "MongoDB waits until you have inserted a document before it actually creates the collection."
   ]
  },
  {
   "cell_type": "markdown",
   "metadata": {},
   "source": [
    "**Check if Collection Exists**\n",
    "\n",
    "Remember: In MongoDB, a collection is not created until it gets content, so if this is your first time creating a collection, you should complete the next chapter (create document) before you check if the collection exists!\n",
    "\n",
    "You can check if a collection exist in a database by listing all collections:\n",
    "\n",
    "**Example**\n",
    "\n",
    "Return a list of all collections in your database:"
   ]
  },
  {
   "cell_type": "code",
   "execution_count": 13,
   "metadata": {},
   "outputs": [
    {
     "ename": "TypeError",
     "evalue": "'Collection' object is not callable. If you meant to call the 'list_collection_names' method on a 'Database' object it is failing because no such method exists.",
     "output_type": "error",
     "traceback": [
      "\u001b[0;31m---------------------------------------------------------------------------\u001b[0m",
      "\u001b[0;31mTypeError\u001b[0m                                 Traceback (most recent call last)",
      "\u001b[0;32m<ipython-input-13-8b3915e5315c>\u001b[0m in \u001b[0;36m<module>\u001b[0;34m()\u001b[0m\n\u001b[0;32m----> 1\u001b[0;31m \u001b[0mprint\u001b[0m\u001b[0;34m(\u001b[0m\u001b[0mmydb\u001b[0m\u001b[0;34m.\u001b[0m\u001b[0mlist_collection_names\u001b[0m\u001b[0;34m(\u001b[0m\u001b[0;34m)\u001b[0m\u001b[0;34m)\u001b[0m\u001b[0;34m\u001b[0m\u001b[0m\n\u001b[0m",
      "\u001b[0;32m~/anaconda2/envs/GenomX/lib/python3.6/site-packages/pymongo/collection.py\u001b[0m in \u001b[0;36m__call__\u001b[0;34m(self, *args, **kwargs)\u001b[0m\n\u001b[1;32m   1767\u001b[0m                             \u001b[0;34m\"object it is failing because no such method \"\u001b[0m\u001b[0;34m\u001b[0m\u001b[0m\n\u001b[1;32m   1768\u001b[0m                             \u001b[0;34m\"exists.\"\u001b[0m \u001b[0;34m%\u001b[0m\u001b[0;34m\u001b[0m\u001b[0m\n\u001b[0;32m-> 1769\u001b[0;31m                             self.__name)\n\u001b[0m\u001b[1;32m   1770\u001b[0m         raise TypeError(\"'Collection' object is not callable. If you meant to \"\n\u001b[1;32m   1771\u001b[0m                         \u001b[0;34m\"call the '%s' method on a 'Collection' object it is \"\u001b[0m\u001b[0;34m\u001b[0m\u001b[0m\n",
      "\u001b[0;31mTypeError\u001b[0m: 'Collection' object is not callable. If you meant to call the 'list_collection_names' method on a 'Database' object it is failing because no such method exists."
     ]
    }
   ],
   "source": [
    "print(mydb.list_collection_names())"
   ]
  },
  {
   "cell_type": "markdown",
   "metadata": {},
   "source": [
    "Or you can check a specific collection by name:\n",
    "\n",
    "**Example**\n",
    "\n",
    "Check if the \"customers\" collection exists:"
   ]
  },
  {
   "cell_type": "code",
   "execution_count": 14,
   "metadata": {},
   "outputs": [
    {
     "ename": "TypeError",
     "evalue": "'Collection' object is not callable. If you meant to call the 'list_collection_names' method on a 'Database' object it is failing because no such method exists.",
     "output_type": "error",
     "traceback": [
      "\u001b[0;31m---------------------------------------------------------------------------\u001b[0m",
      "\u001b[0;31mTypeError\u001b[0m                                 Traceback (most recent call last)",
      "\u001b[0;32m<ipython-input-14-9578538e593e>\u001b[0m in \u001b[0;36m<module>\u001b[0;34m()\u001b[0m\n\u001b[0;32m----> 1\u001b[0;31m \u001b[0mcollist\u001b[0m \u001b[0;34m=\u001b[0m \u001b[0mmydb\u001b[0m\u001b[0;34m.\u001b[0m\u001b[0mlist_collection_names\u001b[0m\u001b[0;34m(\u001b[0m\u001b[0;34m)\u001b[0m\u001b[0;34m\u001b[0m\u001b[0m\n\u001b[0m\u001b[1;32m      2\u001b[0m \u001b[0;32mif\u001b[0m \u001b[0;34m\"customers\"\u001b[0m \u001b[0;32min\u001b[0m \u001b[0mcollist\u001b[0m\u001b[0;34m:\u001b[0m\u001b[0;34m\u001b[0m\u001b[0m\n\u001b[1;32m      3\u001b[0m   \u001b[0mprint\u001b[0m\u001b[0;34m(\u001b[0m\u001b[0;34m\"The collection exists.\"\u001b[0m\u001b[0;34m)\u001b[0m\u001b[0;34m\u001b[0m\u001b[0m\n",
      "\u001b[0;32m~/anaconda2/envs/GenomX/lib/python3.6/site-packages/pymongo/collection.py\u001b[0m in \u001b[0;36m__call__\u001b[0;34m(self, *args, **kwargs)\u001b[0m\n\u001b[1;32m   1767\u001b[0m                             \u001b[0;34m\"object it is failing because no such method \"\u001b[0m\u001b[0;34m\u001b[0m\u001b[0m\n\u001b[1;32m   1768\u001b[0m                             \u001b[0;34m\"exists.\"\u001b[0m \u001b[0;34m%\u001b[0m\u001b[0;34m\u001b[0m\u001b[0m\n\u001b[0;32m-> 1769\u001b[0;31m                             self.__name)\n\u001b[0m\u001b[1;32m   1770\u001b[0m         raise TypeError(\"'Collection' object is not callable. If you meant to \"\n\u001b[1;32m   1771\u001b[0m                         \u001b[0;34m\"call the '%s' method on a 'Collection' object it is \"\u001b[0m\u001b[0;34m\u001b[0m\u001b[0m\n",
      "\u001b[0;31mTypeError\u001b[0m: 'Collection' object is not callable. If you meant to call the 'list_collection_names' method on a 'Database' object it is failing because no such method exists."
     ]
    }
   ],
   "source": [
    "collist = mydb.list_collection_names()\n",
    "if \"customers\" in collist:\n",
    "  print(\"The collection exists.\")"
   ]
  },
  {
   "cell_type": "markdown",
   "metadata": {},
   "source": [
    "---------"
   ]
  },
  {
   "cell_type": "markdown",
   "metadata": {},
   "source": [
    "### 3. Python MongoDB Insert Document\n",
    "\n",
    "A document in MongoDB is the same as a record in SQL databases.\n",
    "\n",
    "**Insert Into Collection**\n",
    "\n",
    "To insert a record, or document as it is called in MongoDB, into a collection, we use the insert_one() method.\n",
    "\n",
    "The first parameter of the insert_one() method is a dictionary containing the name(s) and value(s) of each field in the document you want to insert.\n",
    "\n",
    "**Example**\n",
    "\n",
    "Insert a record in the \"customers\" collection:"
   ]
  },
  {
   "cell_type": "code",
   "execution_count": 15,
   "metadata": {},
   "outputs": [
    {
     "ename": "TypeError",
     "evalue": "'Collection' object is not callable. If you meant to call the 'insert_one' method on a 'Collection' object it is failing because no such method exists.",
     "output_type": "error",
     "traceback": [
      "\u001b[0;31m---------------------------------------------------------------------------\u001b[0m",
      "\u001b[0;31mTypeError\u001b[0m                                 Traceback (most recent call last)",
      "\u001b[0;32m<ipython-input-15-02db4a38257f>\u001b[0m in \u001b[0;36m<module>\u001b[0;34m()\u001b[0m\n\u001b[1;32m      7\u001b[0m \u001b[0mmydict\u001b[0m \u001b[0;34m=\u001b[0m \u001b[0;34m{\u001b[0m \u001b[0;34m\"name\"\u001b[0m\u001b[0;34m:\u001b[0m \u001b[0;34m\"John\"\u001b[0m\u001b[0;34m,\u001b[0m \u001b[0;34m\"address\"\u001b[0m\u001b[0;34m:\u001b[0m \u001b[0;34m\"Highway 37\"\u001b[0m \u001b[0;34m}\u001b[0m\u001b[0;34m\u001b[0m\u001b[0m\n\u001b[1;32m      8\u001b[0m \u001b[0;34m\u001b[0m\u001b[0m\n\u001b[0;32m----> 9\u001b[0;31m \u001b[0mx\u001b[0m \u001b[0;34m=\u001b[0m \u001b[0mmycol\u001b[0m\u001b[0;34m.\u001b[0m\u001b[0minsert_one\u001b[0m\u001b[0;34m(\u001b[0m\u001b[0mmydict\u001b[0m\u001b[0;34m)\u001b[0m\u001b[0;34m\u001b[0m\u001b[0m\n\u001b[0m",
      "\u001b[0;32m~/anaconda2/envs/GenomX/lib/python3.6/site-packages/pymongo/collection.py\u001b[0m in \u001b[0;36m__call__\u001b[0;34m(self, *args, **kwargs)\u001b[0m\n\u001b[1;32m   1771\u001b[0m                         \u001b[0;34m\"call the '%s' method on a 'Collection' object it is \"\u001b[0m\u001b[0;34m\u001b[0m\u001b[0m\n\u001b[1;32m   1772\u001b[0m                         \u001b[0;34m\"failing because no such method exists.\"\u001b[0m \u001b[0;34m%\u001b[0m\u001b[0;34m\u001b[0m\u001b[0m\n\u001b[0;32m-> 1773\u001b[0;31m                         self.__name.split(\".\")[-1])\n\u001b[0m",
      "\u001b[0;31mTypeError\u001b[0m: 'Collection' object is not callable. If you meant to call the 'insert_one' method on a 'Collection' object it is failing because no such method exists."
     ]
    }
   ],
   "source": [
    "import pymongo\n",
    "\n",
    "myclient = pymongo.MongoClient(\"mongodb://localhost:27017/\")\n",
    "mydb = myclient[\"mydatabase\"]\n",
    "mycol = mydb[\"customers\"]\n",
    "\n",
    "mydict = { \"name\": \"John\", \"address\": \"Highway 37\" }\n",
    "\n",
    "x = mycol.insert_one(mydict)"
   ]
  },
  {
   "cell_type": "markdown",
   "metadata": {},
   "source": [
    "**Return the _id Field**\n",
    "\n",
    "The insert_one() method returns a InsertOneResult object, which has a property, inserted_id, that holds the id of the inserted document.\n",
    "\n",
    "**Example**\n",
    "\n",
    "Insert another record in the \"customers\" collection, and return the value of the _id field:"
   ]
  },
  {
   "cell_type": "code",
   "execution_count": 16,
   "metadata": {},
   "outputs": [
    {
     "ename": "TypeError",
     "evalue": "'Collection' object is not callable. If you meant to call the 'insert_one' method on a 'Collection' object it is failing because no such method exists.",
     "output_type": "error",
     "traceback": [
      "\u001b[0;31m---------------------------------------------------------------------------\u001b[0m",
      "\u001b[0;31mTypeError\u001b[0m                                 Traceback (most recent call last)",
      "\u001b[0;32m<ipython-input-16-531ea4ee4582>\u001b[0m in \u001b[0;36m<module>\u001b[0;34m()\u001b[0m\n\u001b[1;32m      1\u001b[0m \u001b[0mmydict\u001b[0m \u001b[0;34m=\u001b[0m \u001b[0;34m{\u001b[0m \u001b[0;34m\"name\"\u001b[0m\u001b[0;34m:\u001b[0m \u001b[0;34m\"Peter\"\u001b[0m\u001b[0;34m,\u001b[0m \u001b[0;34m\"address\"\u001b[0m\u001b[0;34m:\u001b[0m \u001b[0;34m\"Lowstreet 27\"\u001b[0m \u001b[0;34m}\u001b[0m\u001b[0;34m\u001b[0m\u001b[0m\n\u001b[0;32m----> 2\u001b[0;31m \u001b[0mx\u001b[0m \u001b[0;34m=\u001b[0m \u001b[0mmycol\u001b[0m\u001b[0;34m.\u001b[0m\u001b[0minsert_one\u001b[0m\u001b[0;34m(\u001b[0m\u001b[0mmydict\u001b[0m\u001b[0;34m)\u001b[0m\u001b[0;34m\u001b[0m\u001b[0m\n\u001b[0m\u001b[1;32m      3\u001b[0m \u001b[0mprint\u001b[0m\u001b[0;34m(\u001b[0m\u001b[0mx\u001b[0m\u001b[0;34m.\u001b[0m\u001b[0minserted_id\u001b[0m\u001b[0;34m)\u001b[0m\u001b[0;34m\u001b[0m\u001b[0m\n",
      "\u001b[0;32m~/anaconda2/envs/GenomX/lib/python3.6/site-packages/pymongo/collection.py\u001b[0m in \u001b[0;36m__call__\u001b[0;34m(self, *args, **kwargs)\u001b[0m\n\u001b[1;32m   1771\u001b[0m                         \u001b[0;34m\"call the '%s' method on a 'Collection' object it is \"\u001b[0m\u001b[0;34m\u001b[0m\u001b[0m\n\u001b[1;32m   1772\u001b[0m                         \u001b[0;34m\"failing because no such method exists.\"\u001b[0m \u001b[0;34m%\u001b[0m\u001b[0;34m\u001b[0m\u001b[0m\n\u001b[0;32m-> 1773\u001b[0;31m                         self.__name.split(\".\")[-1])\n\u001b[0m",
      "\u001b[0;31mTypeError\u001b[0m: 'Collection' object is not callable. If you meant to call the 'insert_one' method on a 'Collection' object it is failing because no such method exists."
     ]
    }
   ],
   "source": [
    "mydict = { \"name\": \"Peter\", \"address\": \"Lowstreet 27\" }\n",
    "x = mycol.insert_one(mydict)\n",
    "print(x.inserted_id) "
   ]
  },
  {
   "cell_type": "markdown",
   "metadata": {},
   "source": [
    "If you do not specify an _id field, then MongoDB will add one for you and assign a unique id for each document.\n",
    "\n",
    "In the example above no _id field was specified, so MongoDB assigned a unique _id for the record (document).\n",
    "\n",
    "**Insert Multiple Documents**\n",
    "\n",
    "To insert multiple documents into a collection in MongoDB, we use the insert_many() method.\n",
    "\n",
    "The first parameter of the insert_many() method is a list containing dictionaries with the data you want to insert:"
   ]
  },
  {
   "cell_type": "code",
   "execution_count": 17,
   "metadata": {},
   "outputs": [
    {
     "ename": "TypeError",
     "evalue": "'Collection' object is not callable. If you meant to call the 'insert_many' method on a 'Collection' object it is failing because no such method exists.",
     "output_type": "error",
     "traceback": [
      "\u001b[0;31m---------------------------------------------------------------------------\u001b[0m",
      "\u001b[0;31mTypeError\u001b[0m                                 Traceback (most recent call last)",
      "\u001b[0;32m<ipython-input-17-ac7a0880a24e>\u001b[0m in \u001b[0;36m<module>\u001b[0;34m()\u001b[0m\n\u001b[1;32m     14\u001b[0m ]\n\u001b[1;32m     15\u001b[0m \u001b[0;34m\u001b[0m\u001b[0m\n\u001b[0;32m---> 16\u001b[0;31m \u001b[0mx\u001b[0m \u001b[0;34m=\u001b[0m \u001b[0mmycol\u001b[0m\u001b[0;34m.\u001b[0m\u001b[0minsert_many\u001b[0m\u001b[0;34m(\u001b[0m\u001b[0mmylist\u001b[0m\u001b[0;34m)\u001b[0m\u001b[0;34m\u001b[0m\u001b[0m\n\u001b[0m\u001b[1;32m     17\u001b[0m \u001b[0;34m\u001b[0m\u001b[0m\n\u001b[1;32m     18\u001b[0m \u001b[0;31m#print list of the _id values of the inserted documents:\u001b[0m\u001b[0;34m\u001b[0m\u001b[0;34m\u001b[0m\u001b[0m\n",
      "\u001b[0;32m~/anaconda2/envs/GenomX/lib/python3.6/site-packages/pymongo/collection.py\u001b[0m in \u001b[0;36m__call__\u001b[0;34m(self, *args, **kwargs)\u001b[0m\n\u001b[1;32m   1771\u001b[0m                         \u001b[0;34m\"call the '%s' method on a 'Collection' object it is \"\u001b[0m\u001b[0;34m\u001b[0m\u001b[0m\n\u001b[1;32m   1772\u001b[0m                         \u001b[0;34m\"failing because no such method exists.\"\u001b[0m \u001b[0;34m%\u001b[0m\u001b[0;34m\u001b[0m\u001b[0m\n\u001b[0;32m-> 1773\u001b[0;31m                         self.__name.split(\".\")[-1])\n\u001b[0m",
      "\u001b[0;31mTypeError\u001b[0m: 'Collection' object is not callable. If you meant to call the 'insert_many' method on a 'Collection' object it is failing because no such method exists."
     ]
    }
   ],
   "source": [
    "mylist = [\n",
    "  { \"name\": \"Amy\", \"address\": \"Apple st 652\"},\n",
    "  { \"name\": \"Hannah\", \"address\": \"Mountain 21\"},\n",
    "  { \"name\": \"Michael\", \"address\": \"Valley 345\"},\n",
    "  { \"name\": \"Sandy\", \"address\": \"Ocean blvd 2\"},\n",
    "  { \"name\": \"Betty\", \"address\": \"Green Grass 1\"},\n",
    "  { \"name\": \"Richard\", \"address\": \"Sky st 331\"},\n",
    "  { \"name\": \"Susan\", \"address\": \"One way 98\"},\n",
    "  { \"name\": \"Vicky\", \"address\": \"Yellow Garden 2\"},\n",
    "  { \"name\": \"Ben\", \"address\": \"Park Lane 38\"},\n",
    "  { \"name\": \"William\", \"address\": \"Central st 954\"},\n",
    "  { \"name\": \"Chuck\", \"address\": \"Main Road 989\"},\n",
    "  { \"name\": \"Viola\", \"address\": \"Sideway 1633\"}\n",
    "]\n",
    "\n",
    "x = mycol.insert_many(mylist)\n",
    "\n",
    "#print list of the _id values of the inserted documents:\n",
    "print(x.inserted_ids) "
   ]
  },
  {
   "cell_type": "markdown",
   "metadata": {},
   "source": [
    "The insert_many() method returns a InsertManyResult object, which has a property, inserted_ids, that holds the ids of the inserted documents.\n",
    "\n",
    "**Insert Multiple Documents, with Specified IDs**\n",
    "\n",
    "If you do not want MongoDB to assign unique ids for you document, you can specify the _id field when you insert the document(s).\n",
    "\n",
    "Remember that the values has to be unique. Two documents cannot have the same _id."
   ]
  },
  {
   "cell_type": "code",
   "execution_count": 96,
   "metadata": {},
   "outputs": [
    {
     "name": "stdout",
     "output_type": "stream",
     "text": [
      "[1, 2, 3, 4, 5, 6, 7, 8, 9, 10, 11, 12, 13, 14]\n"
     ]
    }
   ],
   "source": [
    "mylist = [\n",
    "  { \"_id\": 1, \"name\": \"John\", \"address\": \"Highway 37\"},\n",
    "  { \"_id\": 2, \"name\": \"Peter\", \"address\": \"Lowstreet 27\"},\n",
    "  { \"_id\": 3, \"name\": \"Amy\", \"address\": \"Apple st 652\"},\n",
    "  { \"_id\": 4, \"name\": \"Hannah\", \"address\": \"Mountain 21\"},\n",
    "  { \"_id\": 5, \"name\": \"Michael\", \"address\": \"Valley 345\"},\n",
    "  { \"_id\": 6, \"name\": \"Sandy\", \"address\": \"Ocean blvd 2\"},\n",
    "  { \"_id\": 7, \"name\": \"Betty\", \"address\": \"Green Grass 1\"},\n",
    "  { \"_id\": 8, \"name\": \"Richard\", \"address\": \"Sky st 331\"},\n",
    "  { \"_id\": 9, \"name\": \"Susan\", \"address\": \"One way 98\"},\n",
    "  { \"_id\": 10, \"name\": \"Vicky\", \"address\": \"Yellow Garden 2\"},\n",
    "  { \"_id\": 11, \"name\": \"Ben\", \"address\": \"Park Lane 38\"},\n",
    "  { \"_id\": 12, \"name\": \"William\", \"address\": \"Central st 954\"},\n",
    "  { \"_id\": 13, \"name\": \"Chuck\", \"address\": \"Main Road 989\"},\n",
    "  { \"_id\": 14, \"name\": \"Viola\", \"address\": \"Sideway 1633\"}\n",
    "]\n",
    "\n",
    "x = mycol.insert_many(mylist)\n",
    "\n",
    "#print list of the _id values of the inserted documents:\n",
    "print(x.inserted_ids) "
   ]
  },
  {
   "cell_type": "markdown",
   "metadata": {},
   "source": [
    "-----------------"
   ]
  },
  {
   "cell_type": "markdown",
   "metadata": {},
   "source": [
    "### 4. Python MongoDB Find\n",
    "\n",
    "In MongoDB we use the find and findOne methods to find data in a collection.\n",
    "\n",
    "Just like the SELECT statement is used to find data in a table in a MySQL database.\n",
    "Find One\n",
    "\n",
    "To select data from a collection in MongoDB, we can use the find_one() method.\n",
    "\n",
    "The find_one() method returns the first occurrence in the selection."
   ]
  },
  {
   "cell_type": "code",
   "execution_count": 103,
   "metadata": {},
   "outputs": [
    {
     "name": "stdout",
     "output_type": "stream",
     "text": [
      "{u'_id': ObjectId('5d93e34209688a906b993e22'), u'name': u'John', u'address': u'Highway 37'}\n"
     ]
    }
   ],
   "source": [
    "import pymongo\n",
    "\n",
    "myclient = pymongo.MongoClient(\"mongodb://localhost:27017/\")\n",
    "mydb = myclient[\"mydatabase\"]\n",
    "mycol = mydb[\"customers\"]\n",
    "\n",
    "x = mycol.find_one()\n",
    "\n",
    "print(x) "
   ]
  },
  {
   "cell_type": "markdown",
   "metadata": {},
   "source": [
    "**Find All**\n",
    "\n",
    "To select data from a table in MongoDB, we can also use the find() method.\n",
    "\n",
    "The find() method returns all occurrences in the selection.\n",
    "\n",
    "The first parameter of the find() method is a query object. In this example we use an empty query object, which selects all documents in the collection.\n",
    "\n",
    "No parameters in the find() method gives you the same result as SELECT * in MySQL.\n",
    "\n",
    "**Example**\n",
    "\n",
    "Return all documents in the \"customers\" collection, and print each document:"
   ]
  },
  {
   "cell_type": "code",
   "execution_count": 98,
   "metadata": {},
   "outputs": [
    {
     "name": "stdout",
     "output_type": "stream",
     "text": [
      "{u'_id': ObjectId('5d93e34209688a906b993e22'), u'name': u'John', u'address': u'Highway 37'}\n",
      "{u'_id': ObjectId('5d93e34209688a906b993e23'), u'name': u'Peter', u'address': u'Lowstreet 27'}\n",
      "{u'_id': ObjectId('5d93e34309688a906b993e24'), u'name': u'Amy', u'address': u'Apple st 652'}\n",
      "{u'_id': ObjectId('5d93e34309688a906b993e25'), u'name': u'Hannah', u'address': u'Mountain 21'}\n",
      "{u'_id': ObjectId('5d93e34309688a906b993e26'), u'name': u'Michael', u'address': u'Valley 345'}\n",
      "{u'_id': ObjectId('5d93e34309688a906b993e27'), u'name': u'Sandy', u'address': u'Ocean blvd 2'}\n",
      "{u'_id': ObjectId('5d93e34309688a906b993e28'), u'name': u'Betty', u'address': u'Green Grass 1'}\n",
      "{u'_id': ObjectId('5d93e34309688a906b993e29'), u'name': u'Richard', u'address': u'Sky st 331'}\n",
      "{u'_id': ObjectId('5d93e34309688a906b993e2a'), u'name': u'Susan', u'address': u'One way 98'}\n",
      "{u'_id': ObjectId('5d93e34309688a906b993e2b'), u'name': u'Vicky', u'address': u'Yellow Garden 2'}\n",
      "{u'_id': ObjectId('5d93e34309688a906b993e2c'), u'name': u'Ben', u'address': u'Park Lane 38'}\n",
      "{u'_id': ObjectId('5d93e34309688a906b993e2d'), u'name': u'William', u'address': u'Central st 954'}\n",
      "{u'_id': ObjectId('5d93e34309688a906b993e2e'), u'name': u'Chuck', u'address': u'Main Road 989'}\n",
      "{u'_id': ObjectId('5d93e34309688a906b993e2f'), u'name': u'Viola', u'address': u'Sideway 1633'}\n",
      "{u'_id': 1, u'name': u'John', u'address': u'Highway 37'}\n",
      "{u'_id': 2, u'name': u'Peter', u'address': u'Lowstreet 27'}\n",
      "{u'_id': 3, u'name': u'Amy', u'address': u'Apple st 652'}\n",
      "{u'_id': 4, u'name': u'Hannah', u'address': u'Mountain 21'}\n",
      "{u'_id': 5, u'name': u'Michael', u'address': u'Valley 345'}\n",
      "{u'_id': 6, u'name': u'Sandy', u'address': u'Ocean blvd 2'}\n",
      "{u'_id': 7, u'name': u'Betty', u'address': u'Green Grass 1'}\n",
      "{u'_id': 8, u'name': u'Richard', u'address': u'Sky st 331'}\n",
      "{u'_id': 9, u'name': u'Susan', u'address': u'One way 98'}\n",
      "{u'_id': 10, u'name': u'Vicky', u'address': u'Yellow Garden 2'}\n",
      "{u'_id': 11, u'name': u'Ben', u'address': u'Park Lane 38'}\n",
      "{u'_id': 12, u'name': u'William', u'address': u'Central st 954'}\n",
      "{u'_id': 13, u'name': u'Chuck', u'address': u'Main Road 989'}\n",
      "{u'_id': 14, u'name': u'Viola', u'address': u'Sideway 1633'}\n"
     ]
    }
   ],
   "source": [
    "import pymongo\n",
    "\n",
    "myclient = pymongo.MongoClient(\"mongodb://localhost:27017/\")\n",
    "mydb = myclient[\"mydatabase\"]\n",
    "mycol = mydb[\"customers\"]\n",
    "\n",
    "for x in mycol.find():\n",
    "  print(x) "
   ]
  },
  {
   "cell_type": "markdown",
   "metadata": {},
   "source": [
    "**Return Only Some Fields**\n",
    "\n",
    "The second parameter of the find() method is an object describing which fields to include in the result.\n",
    "\n",
    "This parameter is optional, and if omitted, all fields will be included in the result."
   ]
  },
  {
   "cell_type": "code",
   "execution_count": 99,
   "metadata": {},
   "outputs": [
    {
     "name": "stdout",
     "output_type": "stream",
     "text": [
      "{u'name': u'John', u'address': u'Highway 37'}\n",
      "{u'name': u'Peter', u'address': u'Lowstreet 27'}\n",
      "{u'name': u'Amy', u'address': u'Apple st 652'}\n",
      "{u'name': u'Hannah', u'address': u'Mountain 21'}\n",
      "{u'name': u'Michael', u'address': u'Valley 345'}\n",
      "{u'name': u'Sandy', u'address': u'Ocean blvd 2'}\n",
      "{u'name': u'Betty', u'address': u'Green Grass 1'}\n",
      "{u'name': u'Richard', u'address': u'Sky st 331'}\n",
      "{u'name': u'Susan', u'address': u'One way 98'}\n",
      "{u'name': u'Vicky', u'address': u'Yellow Garden 2'}\n",
      "{u'name': u'Ben', u'address': u'Park Lane 38'}\n",
      "{u'name': u'William', u'address': u'Central st 954'}\n",
      "{u'name': u'Chuck', u'address': u'Main Road 989'}\n",
      "{u'name': u'Viola', u'address': u'Sideway 1633'}\n",
      "{u'name': u'John', u'address': u'Highway 37'}\n",
      "{u'name': u'Peter', u'address': u'Lowstreet 27'}\n",
      "{u'name': u'Amy', u'address': u'Apple st 652'}\n",
      "{u'name': u'Hannah', u'address': u'Mountain 21'}\n",
      "{u'name': u'Michael', u'address': u'Valley 345'}\n",
      "{u'name': u'Sandy', u'address': u'Ocean blvd 2'}\n",
      "{u'name': u'Betty', u'address': u'Green Grass 1'}\n",
      "{u'name': u'Richard', u'address': u'Sky st 331'}\n",
      "{u'name': u'Susan', u'address': u'One way 98'}\n",
      "{u'name': u'Vicky', u'address': u'Yellow Garden 2'}\n",
      "{u'name': u'Ben', u'address': u'Park Lane 38'}\n",
      "{u'name': u'William', u'address': u'Central st 954'}\n",
      "{u'name': u'Chuck', u'address': u'Main Road 989'}\n",
      "{u'name': u'Viola', u'address': u'Sideway 1633'}\n"
     ]
    }
   ],
   "source": [
    "import pymongo\n",
    "\n",
    "myclient = pymongo.MongoClient(\"mongodb://localhost:27017/\")\n",
    "mydb = myclient[\"mydatabase\"]\n",
    "mycol = mydb[\"customers\"]\n",
    "\n",
    "for x in mycol.find({},{ \"_id\": 0, \"name\": 1, \"address\": 1 }):\n",
    "  print(x) "
   ]
  },
  {
   "cell_type": "markdown",
   "metadata": {},
   "source": [
    "You are not allowed to specify both 0 and 1 values in the same object (except if one of the fields is the _id field). If you specify a field with the value 0, all other fields get the value 1, and vice versa:\n",
    "\n",
    "**Example**\n",
    "\n",
    "This example will exclude \"address\" from the result:"
   ]
  },
  {
   "cell_type": "code",
   "execution_count": 75,
   "metadata": {},
   "outputs": [
    {
     "name": "stdout",
     "output_type": "stream",
     "text": [
      "{u'_id': ObjectId('5d93e33109688a906b993e07'), u'name': u'John'}\n",
      "{u'_id': ObjectId('5d93e33109688a906b993e08'), u'name': u'Peter'}\n",
      "{u'_id': ObjectId('5d93e33109688a906b993e09'), u'name': u'Amy'}\n",
      "{u'_id': ObjectId('5d93e33109688a906b993e0a'), u'name': u'Hannah'}\n",
      "{u'_id': ObjectId('5d93e33109688a906b993e0b'), u'name': u'Michael'}\n",
      "{u'_id': ObjectId('5d93e33109688a906b993e0c'), u'name': u'Sandy'}\n",
      "{u'_id': ObjectId('5d93e33109688a906b993e0d'), u'name': u'Betty'}\n",
      "{u'_id': ObjectId('5d93e33109688a906b993e0e'), u'name': u'Richard'}\n",
      "{u'_id': ObjectId('5d93e33109688a906b993e0f'), u'name': u'Susan'}\n",
      "{u'_id': ObjectId('5d93e33109688a906b993e10'), u'name': u'Vicky'}\n",
      "{u'_id': ObjectId('5d93e33109688a906b993e11'), u'name': u'Ben'}\n",
      "{u'_id': ObjectId('5d93e33109688a906b993e12'), u'name': u'William'}\n",
      "{u'_id': ObjectId('5d93e33109688a906b993e13'), u'name': u'Chuck'}\n",
      "{u'_id': ObjectId('5d93e33109688a906b993e14'), u'name': u'Viola'}\n",
      "{u'_id': 1, u'name': u'John'}\n",
      "{u'_id': 2, u'name': u'Peter'}\n",
      "{u'_id': 3, u'name': u'Amy'}\n",
      "{u'_id': 4, u'name': u'Hannah'}\n",
      "{u'_id': 5, u'name': u'Michael'}\n",
      "{u'_id': 6, u'name': u'Sandy'}\n",
      "{u'_id': 7, u'name': u'Betty'}\n",
      "{u'_id': 8, u'name': u'Richard'}\n",
      "{u'_id': 9, u'name': u'Susan'}\n",
      "{u'_id': 10, u'name': u'Vicky'}\n",
      "{u'_id': 11, u'name': u'Ben'}\n",
      "{u'_id': 12, u'name': u'William'}\n",
      "{u'_id': 13, u'name': u'Chuck'}\n",
      "{u'_id': 14, u'name': u'Viola'}\n"
     ]
    }
   ],
   "source": [
    "import pymongo\n",
    "\n",
    "myclient = pymongo.MongoClient(\"mongodb://localhost:27017/\")\n",
    "mydb = myclient[\"mydatabase\"]\n",
    "mycol = mydb[\"customers\"]\n",
    "\n",
    "for x in mycol.find({},{ \"address\": 0 }):\n",
    "  print(x) "
   ]
  },
  {
   "cell_type": "markdown",
   "metadata": {},
   "source": [
    "-------------------"
   ]
  },
  {
   "cell_type": "markdown",
   "metadata": {},
   "source": [
    "### 5. Python MongoDB Query\n",
    "\n",
    "**Filter the Result**\n",
    "\n",
    "When finding documents in a collection, you can filter the result by using a query object.\n",
    "\n",
    "The first argument of the find() method is a query object, and is used to limit the search."
   ]
  },
  {
   "cell_type": "code",
   "execution_count": 76,
   "metadata": {},
   "outputs": [
    {
     "name": "stdout",
     "output_type": "stream",
     "text": [
      "{u'_id': ObjectId('5d93e33109688a906b993e11'), u'name': u'Ben', u'address': u'Park Lane 38'}\n",
      "{u'_id': 11, u'name': u'Ben', u'address': u'Park Lane 38'}\n"
     ]
    }
   ],
   "source": [
    "import pymongo\n",
    "\n",
    "myclient = pymongo.MongoClient(\"mongodb://localhost:27017/\")\n",
    "mydb = myclient[\"mydatabase\"]\n",
    "mycol = mydb[\"customers\"]\n",
    "\n",
    "myquery = { \"address\": \"Park Lane 38\" }\n",
    "\n",
    "mydoc = mycol.find(myquery)\n",
    "\n",
    "for x in mydoc:\n",
    "  print(x) "
   ]
  },
  {
   "cell_type": "markdown",
   "metadata": {},
   "source": [
    "To make advanced queries you can use modifiers as values in the query object.\n",
    "\n",
    "E.g. to find the documents where the \"address\" field starts with the letter \"S\" or higher (alphabetically), use the greater than modifier: {\"$gt\": \"S\"}:\n",
    "\n",
    "**Example**\n",
    "\n",
    "Find documents where the address starts with the letter \"S\" or higher:"
   ]
  },
  {
   "cell_type": "code",
   "execution_count": 77,
   "metadata": {},
   "outputs": [
    {
     "name": "stdout",
     "output_type": "stream",
     "text": [
      "{u'_id': ObjectId('5d93e33109688a906b993e0b'), u'name': u'Michael', u'address': u'Valley 345'}\n",
      "{u'_id': ObjectId('5d93e33109688a906b993e0e'), u'name': u'Richard', u'address': u'Sky st 331'}\n",
      "{u'_id': ObjectId('5d93e33109688a906b993e10'), u'name': u'Vicky', u'address': u'Yellow Garden 2'}\n",
      "{u'_id': ObjectId('5d93e33109688a906b993e14'), u'name': u'Viola', u'address': u'Sideway 1633'}\n",
      "{u'_id': 5, u'name': u'Michael', u'address': u'Valley 345'}\n",
      "{u'_id': 8, u'name': u'Richard', u'address': u'Sky st 331'}\n",
      "{u'_id': 10, u'name': u'Vicky', u'address': u'Yellow Garden 2'}\n",
      "{u'_id': 14, u'name': u'Viola', u'address': u'Sideway 1633'}\n"
     ]
    }
   ],
   "source": [
    "import pymongo\n",
    "\n",
    "myclient = pymongo.MongoClient(\"mongodb://localhost:27017/\")\n",
    "mydb = myclient[\"mydatabase\"]\n",
    "mycol = mydb[\"customers\"]\n",
    "\n",
    "myquery = { \"address\": { \"$gt\": \"S\" } }\n",
    "\n",
    "mydoc = mycol.find(myquery)\n",
    "\n",
    "for x in mydoc:\n",
    "  print(x) "
   ]
  },
  {
   "cell_type": "markdown",
   "metadata": {},
   "source": [
    "**Filter With Regular Expressions**\n",
    "\n",
    "You can also use regular expressions as a modifier.\n",
    "\n",
    "Regular expressions can only be used to query strings.\n",
    "\n",
    "To find only the documents where the \"address\" field starts with the letter \"S\", use the regular expression {\"$regex\": \"^S\"}:\n",
    "\n",
    "**Example**\n",
    "\n",
    "Find documents where the address starts with the letter \"S\":"
   ]
  },
  {
   "cell_type": "code",
   "execution_count": 78,
   "metadata": {},
   "outputs": [
    {
     "name": "stdout",
     "output_type": "stream",
     "text": [
      "{u'_id': ObjectId('5d93e33109688a906b993e0e'), u'name': u'Richard', u'address': u'Sky st 331'}\n",
      "{u'_id': ObjectId('5d93e33109688a906b993e14'), u'name': u'Viola', u'address': u'Sideway 1633'}\n",
      "{u'_id': 8, u'name': u'Richard', u'address': u'Sky st 331'}\n",
      "{u'_id': 14, u'name': u'Viola', u'address': u'Sideway 1633'}\n"
     ]
    }
   ],
   "source": [
    "import pymongo\n",
    "\n",
    "myclient = pymongo.MongoClient(\"mongodb://localhost:27017/\")\n",
    "mydb = myclient[\"mydatabase\"]\n",
    "mycol = mydb[\"customers\"]\n",
    "\n",
    "myquery = { \"address\": { \"$regex\": \"^S\" } }\n",
    "\n",
    "mydoc = mycol.find(myquery)\n",
    "\n",
    "for x in mydoc:\n",
    "  print(x) "
   ]
  },
  {
   "cell_type": "markdown",
   "metadata": {},
   "source": [
    "------------"
   ]
  },
  {
   "cell_type": "markdown",
   "metadata": {},
   "source": [
    "### 6. Python MongoDB Sort\n",
    "\n",
    "**Sort the Result**\n",
    "\n",
    "Use the sort() method to sort the result in ascending or descending order.\n",
    "\n",
    "The sort() method takes one parameter for \"fieldname\" and one parameter for \"direction\" (ascending is the default direction).\n",
    "\n",
    "**Example**\n",
    "\n",
    "Sort the result alphabetically by name:"
   ]
  },
  {
   "cell_type": "code",
   "execution_count": 79,
   "metadata": {},
   "outputs": [
    {
     "name": "stdout",
     "output_type": "stream",
     "text": [
      "{u'_id': ObjectId('5d93e33109688a906b993e09'), u'name': u'Amy', u'address': u'Apple st 652'}\n",
      "{u'_id': 3, u'name': u'Amy', u'address': u'Apple st 652'}\n",
      "{u'_id': ObjectId('5d93e33109688a906b993e11'), u'name': u'Ben', u'address': u'Park Lane 38'}\n",
      "{u'_id': 11, u'name': u'Ben', u'address': u'Park Lane 38'}\n",
      "{u'_id': ObjectId('5d93e33109688a906b993e0d'), u'name': u'Betty', u'address': u'Green Grass 1'}\n",
      "{u'_id': 7, u'name': u'Betty', u'address': u'Green Grass 1'}\n",
      "{u'_id': ObjectId('5d93e33109688a906b993e13'), u'name': u'Chuck', u'address': u'Main Road 989'}\n",
      "{u'_id': 13, u'name': u'Chuck', u'address': u'Main Road 989'}\n",
      "{u'_id': ObjectId('5d93e33109688a906b993e0a'), u'name': u'Hannah', u'address': u'Mountain 21'}\n",
      "{u'_id': 4, u'name': u'Hannah', u'address': u'Mountain 21'}\n",
      "{u'_id': ObjectId('5d93e33109688a906b993e07'), u'name': u'John', u'address': u'Highway 37'}\n",
      "{u'_id': 1, u'name': u'John', u'address': u'Highway 37'}\n",
      "{u'_id': ObjectId('5d93e33109688a906b993e0b'), u'name': u'Michael', u'address': u'Valley 345'}\n",
      "{u'_id': 5, u'name': u'Michael', u'address': u'Valley 345'}\n",
      "{u'_id': ObjectId('5d93e33109688a906b993e08'), u'name': u'Peter', u'address': u'Lowstreet 27'}\n",
      "{u'_id': 2, u'name': u'Peter', u'address': u'Lowstreet 27'}\n",
      "{u'_id': ObjectId('5d93e33109688a906b993e0e'), u'name': u'Richard', u'address': u'Sky st 331'}\n",
      "{u'_id': 8, u'name': u'Richard', u'address': u'Sky st 331'}\n",
      "{u'_id': ObjectId('5d93e33109688a906b993e0c'), u'name': u'Sandy', u'address': u'Ocean blvd 2'}\n",
      "{u'_id': 6, u'name': u'Sandy', u'address': u'Ocean blvd 2'}\n",
      "{u'_id': ObjectId('5d93e33109688a906b993e0f'), u'name': u'Susan', u'address': u'One way 98'}\n",
      "{u'_id': 9, u'name': u'Susan', u'address': u'One way 98'}\n",
      "{u'_id': ObjectId('5d93e33109688a906b993e10'), u'name': u'Vicky', u'address': u'Yellow Garden 2'}\n",
      "{u'_id': 10, u'name': u'Vicky', u'address': u'Yellow Garden 2'}\n",
      "{u'_id': ObjectId('5d93e33109688a906b993e14'), u'name': u'Viola', u'address': u'Sideway 1633'}\n",
      "{u'_id': 14, u'name': u'Viola', u'address': u'Sideway 1633'}\n",
      "{u'_id': ObjectId('5d93e33109688a906b993e12'), u'name': u'William', u'address': u'Central st 954'}\n",
      "{u'_id': 12, u'name': u'William', u'address': u'Central st 954'}\n"
     ]
    }
   ],
   "source": [
    "import pymongo\n",
    "\n",
    "myclient = pymongo.MongoClient(\"mongodb://localhost:27017/\")\n",
    "mydb = myclient[\"mydatabase\"]\n",
    "mycol = mydb[\"customers\"]\n",
    "\n",
    "mydoc = mycol.find().sort(\"name\")\n",
    "\n",
    "for x in mydoc:\n",
    "  print(x) "
   ]
  },
  {
   "cell_type": "markdown",
   "metadata": {},
   "source": [
    "**Sort Descending**\n",
    "\n",
    "Use the value -1 as the second parameter to sort descending.\n",
    "\n",
    "sort(\"name\", 1) #ascending\n",
    "sort(\"name\", -1) #descending\n",
    "\n",
    "**Example**\n",
    "\n",
    "Sort the result reverse alphabetically by name:\n"
   ]
  },
  {
   "cell_type": "code",
   "execution_count": 80,
   "metadata": {},
   "outputs": [
    {
     "name": "stdout",
     "output_type": "stream",
     "text": [
      "{u'_id': ObjectId('5d93e33109688a906b993e12'), u'name': u'William', u'address': u'Central st 954'}\n",
      "{u'_id': 12, u'name': u'William', u'address': u'Central st 954'}\n",
      "{u'_id': ObjectId('5d93e33109688a906b993e14'), u'name': u'Viola', u'address': u'Sideway 1633'}\n",
      "{u'_id': 14, u'name': u'Viola', u'address': u'Sideway 1633'}\n",
      "{u'_id': ObjectId('5d93e33109688a906b993e10'), u'name': u'Vicky', u'address': u'Yellow Garden 2'}\n",
      "{u'_id': 10, u'name': u'Vicky', u'address': u'Yellow Garden 2'}\n",
      "{u'_id': ObjectId('5d93e33109688a906b993e0f'), u'name': u'Susan', u'address': u'One way 98'}\n",
      "{u'_id': 9, u'name': u'Susan', u'address': u'One way 98'}\n",
      "{u'_id': ObjectId('5d93e33109688a906b993e0c'), u'name': u'Sandy', u'address': u'Ocean blvd 2'}\n",
      "{u'_id': 6, u'name': u'Sandy', u'address': u'Ocean blvd 2'}\n",
      "{u'_id': ObjectId('5d93e33109688a906b993e0e'), u'name': u'Richard', u'address': u'Sky st 331'}\n",
      "{u'_id': 8, u'name': u'Richard', u'address': u'Sky st 331'}\n",
      "{u'_id': ObjectId('5d93e33109688a906b993e08'), u'name': u'Peter', u'address': u'Lowstreet 27'}\n",
      "{u'_id': 2, u'name': u'Peter', u'address': u'Lowstreet 27'}\n",
      "{u'_id': ObjectId('5d93e33109688a906b993e0b'), u'name': u'Michael', u'address': u'Valley 345'}\n",
      "{u'_id': 5, u'name': u'Michael', u'address': u'Valley 345'}\n",
      "{u'_id': ObjectId('5d93e33109688a906b993e07'), u'name': u'John', u'address': u'Highway 37'}\n",
      "{u'_id': 1, u'name': u'John', u'address': u'Highway 37'}\n",
      "{u'_id': ObjectId('5d93e33109688a906b993e0a'), u'name': u'Hannah', u'address': u'Mountain 21'}\n",
      "{u'_id': 4, u'name': u'Hannah', u'address': u'Mountain 21'}\n",
      "{u'_id': ObjectId('5d93e33109688a906b993e13'), u'name': u'Chuck', u'address': u'Main Road 989'}\n",
      "{u'_id': 13, u'name': u'Chuck', u'address': u'Main Road 989'}\n",
      "{u'_id': ObjectId('5d93e33109688a906b993e0d'), u'name': u'Betty', u'address': u'Green Grass 1'}\n",
      "{u'_id': 7, u'name': u'Betty', u'address': u'Green Grass 1'}\n",
      "{u'_id': ObjectId('5d93e33109688a906b993e11'), u'name': u'Ben', u'address': u'Park Lane 38'}\n",
      "{u'_id': 11, u'name': u'Ben', u'address': u'Park Lane 38'}\n",
      "{u'_id': ObjectId('5d93e33109688a906b993e09'), u'name': u'Amy', u'address': u'Apple st 652'}\n",
      "{u'_id': 3, u'name': u'Amy', u'address': u'Apple st 652'}\n"
     ]
    }
   ],
   "source": [
    "import pymongo\n",
    "\n",
    "myclient = pymongo.MongoClient(\"mongodb://localhost:27017/\")\n",
    "mydb = myclient[\"mydatabase\"]\n",
    "mycol = mydb[\"customers\"]\n",
    "\n",
    "mydoc = mycol.find().sort(\"name\", -1)\n",
    "\n",
    "for x in mydoc:\n",
    "  print(x) "
   ]
  },
  {
   "cell_type": "markdown",
   "metadata": {},
   "source": [
    "-------------"
   ]
  },
  {
   "cell_type": "markdown",
   "metadata": {},
   "source": [
    "### 7. Python MongoDB Delete Document\n",
    "\n",
    "**Delete Document**\n",
    "\n",
    "To delete one document, we use the delete_one() method.\n",
    "\n",
    "The first parameter of the delete_one() method is a query object defining which document to delete.\n",
    "\n",
    "Note: If the query finds more than one document, only the first occurrence is deleted.\n"
   ]
  },
  {
   "cell_type": "code",
   "execution_count": 81,
   "metadata": {},
   "outputs": [
    {
     "data": {
      "text/plain": [
       "<pymongo.results.DeleteResult at 0x7ff0d0313518>"
      ]
     },
     "execution_count": 81,
     "metadata": {},
     "output_type": "execute_result"
    }
   ],
   "source": [
    "import pymongo\n",
    "\n",
    "myclient = pymongo.MongoClient(\"mongodb://localhost:27017/\")\n",
    "mydb = myclient[\"mydatabase\"]\n",
    "mycol = mydb[\"customers\"]\n",
    "\n",
    "myquery = { \"address\": \"Mountain 21\" }\n",
    "\n",
    "mycol.delete_one(myquery) "
   ]
  },
  {
   "cell_type": "markdown",
   "metadata": {},
   "source": [
    "**Delete Many Documents**\n",
    "\n",
    "To delete more than one document, use the delete_many() method.\n",
    "\n",
    "The first parameter of the delete_many() method is a query object defining which documents to delete.\n",
    "\n",
    "**Example**\n",
    "\n",
    "Delete all documents were the address starts with the letter S:"
   ]
  },
  {
   "cell_type": "code",
   "execution_count": 82,
   "metadata": {},
   "outputs": [
    {
     "name": "stdout",
     "output_type": "stream",
     "text": [
      "(4, ' documents deleted.')\n"
     ]
    }
   ],
   "source": [
    "import pymongo\n",
    "\n",
    "myclient = pymongo.MongoClient(\"mongodb://localhost:27017/\")\n",
    "mydb = myclient[\"mydatabase\"]\n",
    "mycol = mydb[\"customers\"]\n",
    "\n",
    "myquery = { \"address\": {\"$regex\": \"^S\"} }\n",
    "\n",
    "x = mycol.delete_many(myquery)\n",
    "\n",
    "print(x.deleted_count, \" documents deleted.\")\n"
   ]
  },
  {
   "cell_type": "markdown",
   "metadata": {},
   "source": [
    "**Delete All Documents in a Collection**\n",
    "To delete all documents in a collection, pass an empty query object to the delete_many() method:\n",
    "\n",
    "**Example**\n",
    "\n",
    "Delete all documents in the \"customers\" collection:"
   ]
  },
  {
   "cell_type": "code",
   "execution_count": 83,
   "metadata": {},
   "outputs": [
    {
     "name": "stdout",
     "output_type": "stream",
     "text": [
      "(23, ' documents deleted.')\n"
     ]
    }
   ],
   "source": [
    "import pymongo\n",
    "\n",
    "myclient = pymongo.MongoClient(\"mongodb://localhost:27017/\")\n",
    "mydb = myclient[\"mydatabase\"]\n",
    "mycol = mydb[\"customers\"]\n",
    "\n",
    "x = mycol.delete_many({})\n",
    "\n",
    "print(x.deleted_count, \" documents deleted.\") "
   ]
  },
  {
   "cell_type": "markdown",
   "metadata": {},
   "source": [
    "------------"
   ]
  },
  {
   "cell_type": "markdown",
   "metadata": {},
   "source": [
    "### 8. Delete Collection\n",
    "\n",
    "You can delete a table, or collection as it is called in MongoDB, by using the drop() method.\n",
    "Example\n",
    "\n",
    "Delete the \"customers\" collection:\n",
    "\n",
    "\n",
    "The drop() method returns true if the collection was dropped successfully, and false if the collection does not exist.\n"
   ]
  },
  {
   "cell_type": "code",
   "execution_count": 104,
   "metadata": {},
   "outputs": [],
   "source": [
    "import pymongo\n",
    "\n",
    "myclient = pymongo.MongoClient(\"mongodb://localhost:27017/\")\n",
    "mydb = myclient[\"mydatabase\"]\n",
    "mycol = mydb[\"customers\"]\n",
    "\n",
    "mycol.drop()"
   ]
  },
  {
   "cell_type": "markdown",
   "metadata": {},
   "source": [
    "----------"
   ]
  },
  {
   "cell_type": "markdown",
   "metadata": {},
   "source": [
    "### 9. Python MongoDB Update\n",
    "\n",
    "**Update Collection**\n",
    "\n",
    "You can update a record, or document as it is called in MongoDB, by using the update_one() method.\n",
    "\n",
    "The first parameter of the update_one() method is a query object defining which document to update.\n",
    "\n",
    "Note: If the query finds more than one record, only the first occurrence is updated.\n",
    "\n",
    "The second parameter is an object defining the new values of the document.\n",
    "\n",
    "**Example**\n",
    "\n",
    "Change the address from \"Valley 345\" to \"Canyon 123\":"
   ]
  },
  {
   "cell_type": "code",
   "execution_count": 105,
   "metadata": {},
   "outputs": [],
   "source": [
    "import pymongo\n",
    "\n",
    "myclient = pymongo.MongoClient(\"mongodb://localhost:27017/\")\n",
    "mydb = myclient[\"mydatabase\"]\n",
    "mycol = mydb[\"customers\"]\n",
    "\n",
    "myquery = { \"address\": \"Valley 345\" }\n",
    "newvalues = { \"$set\": { \"address\": \"Canyon 123\" } }\n",
    "\n",
    "mycol.update_one(myquery, newvalues)\n",
    "\n",
    "#print \"customers\" after the update:\n",
    "for x in mycol.find():\n",
    "  print(x) "
   ]
  },
  {
   "cell_type": "markdown",
   "metadata": {},
   "source": [
    "**Update Many**\n",
    "\n",
    "To update all documents that meets the criteria of the query, use the update_many() method.\n",
    "\n",
    "**Example**\n",
    "\n",
    "Update all documents where the address starts with the letter \"S\":\n"
   ]
  },
  {
   "cell_type": "code",
   "execution_count": 106,
   "metadata": {},
   "outputs": [
    {
     "name": "stdout",
     "output_type": "stream",
     "text": [
      "(0, 'documents updated.')\n"
     ]
    }
   ],
   "source": [
    "import pymongo\n",
    "\n",
    "myclient = pymongo.MongoClient(\"mongodb://localhost:27017/\")\n",
    "mydb = myclient[\"mydatabase\"]\n",
    "mycol = mydb[\"customers\"]\n",
    "\n",
    "myquery = { \"address\": { \"$regex\": \"^S\" } }\n",
    "newvalues = { \"$set\": { \"name\": \"Minnie\" } }\n",
    "\n",
    "x = mycol.update_many(myquery, newvalues)\n",
    "\n",
    "print(x.modified_count, \"documents updated.\") "
   ]
  },
  {
   "cell_type": "markdown",
   "metadata": {},
   "source": [
    "------"
   ]
  },
  {
   "cell_type": "markdown",
   "metadata": {},
   "source": [
    "### 10. Limit the Result\n",
    "\n",
    "To limit the result in MongoDB, we use the limit() method.\n",
    "\n",
    "The limit() method takes one parameter, a number defining how many documents to return.\n",
    "\n",
    "Consider you have a \"customers\" collection:"
   ]
  },
  {
   "cell_type": "code",
   "execution_count": 107,
   "metadata": {},
   "outputs": [],
   "source": [
    "import pymongo\n",
    "\n",
    "myclient = pymongo.MongoClient(\"mongodb://localhost:27017/\")\n",
    "mydb = myclient[\"mydatabase\"]\n",
    "mycol = mydb[\"customers\"]\n",
    "\n",
    "myresult = mycol.find().limit(5)\n",
    "\n",
    "#print the result:\n",
    "for x in myresult:\n",
    "  print(x) "
   ]
  },
  {
   "cell_type": "code",
   "execution_count": null,
   "metadata": {},
   "outputs": [],
   "source": []
  }
 ],
 "metadata": {
  "kernelspec": {
   "display_name": "Python 3",
   "language": "python",
   "name": "python3"
  },
  "language_info": {
   "codemirror_mode": {
    "name": "ipython",
    "version": 3
   },
   "file_extension": ".py",
   "mimetype": "text/x-python",
   "name": "python",
   "nbconvert_exporter": "python",
   "pygments_lexer": "ipython3",
   "version": "3.7.3"
  }
 },
 "nbformat": 4,
 "nbformat_minor": 2
}
