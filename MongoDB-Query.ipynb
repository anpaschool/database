{
 "cells": [
  {
   "cell_type": "code",
   "execution_count": 1,
   "metadata": {},
   "outputs": [],
   "source": [
    "from pymongo import MongoClient\n",
    "import json"
   ]
  },
  {
   "cell_type": "code",
   "execution_count": 2,
   "metadata": {},
   "outputs": [],
   "source": [
    "client = MongoClient(\"mongodb://localhost:27017\")"
   ]
  },
  {
   "cell_type": "code",
   "execution_count": 4,
   "metadata": {},
   "outputs": [],
   "source": [
    "db = client[\"icd11\"]\n",
    "mms_col = db[\"mms\"]"
   ]
  },
  {
   "cell_type": "code",
   "execution_count": 5,
   "metadata": {},
   "outputs": [],
   "source": [
    "DATA = []\n",
    "for x in mms_col.find():\n",
    "    DATA.append(x) "
   ]
  },
  {
   "cell_type": "code",
   "execution_count": 6,
   "metadata": {},
   "outputs": [
    {
     "data": {
      "text/plain": [
       "[{'_id': ObjectId('5d953ecd0994bcf25cc87f14'),\n",
       "  'childs': [],\n",
       "  'has_children': 0,\n",
       "  'is_leaf_node': False,\n",
       "  'code': 'QC68',\n",
       "  'index_term': [{'indexTerm_foundation_id': 'NA',\n",
       "    'indexTerm_title': 'Family history of consanguinity'}],\n",
       "  'defn': 'NA',\n",
       "  'mms_id': '1192168487',\n",
       "  'postcoordinationScale': [],\n",
       "  'has_parents': 1,\n",
       "  'title': 'Family history of consanguinity',\n",
       "  'parents': ['1143554706']},\n",
       " {'_id': ObjectId('5d953ecd0994bcf25cc87f15'),\n",
       "  'childs': [],\n",
       "  'has_children': 0,\n",
       "  'is_leaf_node': False,\n",
       "  'code': '3B64.13',\n",
       "  'index_term': [{'indexTerm_foundation_id': 'NA',\n",
       "    'indexTerm_title': 'Alloimmune thrombocytopenia'}],\n",
       "  'defn': 'A disease caused by determinants such as a blood transfusion that lead to an immune response to the foreign antigens. This disease is characterised by low levels of platelets in the body due to an immune reactive response to the foreign platelet antigens. This disease may present with increased bruising or haemorrhaging. Confirmation is by identification of decreased platelet count and presence of autoantibodies in a blood sample.',\n",
       "  'mms_id': '251307303',\n",
       "  'postcoordinationScale': [],\n",
       "  'has_parents': 1,\n",
       "  'title': 'Alloimmune thrombocytopenia',\n",
       "  'parents': ['526155201']},\n",
       " {'_id': ObjectId('5d953ecd0994bcf25cc87f16'),\n",
       "  'childs': [],\n",
       "  'has_children': 0,\n",
       "  'is_leaf_node': False,\n",
       "  'code': 'ND14.A0',\n",
       "  'index_term': [{'indexTerm_foundation_id': 'NA',\n",
       "    'indexTerm_title': 'Strain or sprain of metatarsophalangeal joint of lesser toe'}],\n",
       "  'defn': 'NA',\n",
       "  'mms_id': '2074348881',\n",
       "  'postcoordinationScale': [{'scaleEntity': ['627678743',\n",
       "     '271422288',\n",
       "     '876572005',\n",
       "     '1038788978',\n",
       "     '1694310660'],\n",
       "    'allowMultipleValues': 'NotAllowed',\n",
       "    'requiredPostcoordination': 'false',\n",
       "    'axisName': 'laterality'},\n",
       "   {'scaleEntity': ['980862652',\n",
       "     '851395624',\n",
       "     '73322695',\n",
       "     '128104623',\n",
       "     '1491356379',\n",
       "     '491063206',\n",
       "     '185842968',\n",
       "     '2143219175',\n",
       "     '558785723',\n",
       "     'other',\n",
       "     'unspecified'],\n",
       "    'allowMultipleValues': 'AllowAlways',\n",
       "    'requiredPostcoordination': 'false',\n",
       "    'axisName': 'associatedWith'}],\n",
       "  'has_parents': 1,\n",
       "  'title': 'Strain or sprain of metatarsophalangeal joint of lesser toe',\n",
       "  'parents': ['43054047']},\n",
       " {'_id': ObjectId('5d953ecd0994bcf25cc87f17'),\n",
       "  'childs': [],\n",
       "  'has_children': 0,\n",
       "  'is_leaf_node': False,\n",
       "  'code': 'XA8YJ9',\n",
       "  'index_term': [{'indexTerm_foundation_id': 'NA',\n",
       "    'indexTerm_title': 'Sigmoid colon'},\n",
       "   {'indexTerm_foundation_id': 'NA',\n",
       "    'indexTerm_title': 'Sigmoid large intestine'},\n",
       "   {'indexTerm_foundation_id': 'NA', 'indexTerm_title': 'Pelvic colon'},\n",
       "   {'indexTerm_foundation_id': 'NA', 'indexTerm_title': 'Sigmoid, NOS'},\n",
       "   {'indexTerm_foundation_id': 'NA',\n",
       "    'indexTerm_title': 'Sigmoid flexure of colon'}],\n",
       "  'defn': 'NA',\n",
       "  'mms_id': '894847549',\n",
       "  'postcoordinationScale': [],\n",
       "  'has_parents': 1,\n",
       "  'title': 'Sigmoid colon',\n",
       "  'parents': ['578694909']},\n",
       " {'_id': ObjectId('5d953ecd0994bcf25cc87f18'),\n",
       "  'childs': [],\n",
       "  'has_children': 0,\n",
       "  'is_leaf_node': False,\n",
       "  'code': '7B02.0',\n",
       "  'index_term': [{'indexTerm_foundation_id': 'NA',\n",
       "    'indexTerm_title': 'Hypnogogic exploding head syndrome'},\n",
       "   {'indexTerm_foundation_id': 'NA',\n",
       "    'indexTerm_title': 'Hypnogogic sensory disturbance'}],\n",
       "  'defn': 'NA',\n",
       "  'mms_id': '1393951214',\n",
       "  'postcoordinationScale': [],\n",
       "  'has_parents': 1,\n",
       "  'title': 'Hypnogogic exploding head syndrome',\n",
       "  'parents': ['192130563']}]"
      ]
     },
     "execution_count": 6,
     "metadata": {},
     "output_type": "execute_result"
    }
   ],
   "source": [
    "DATA[0:5]"
   ]
  },
  {
   "cell_type": "code",
   "execution_count": 7,
   "metadata": {},
   "outputs": [],
   "source": [
    "db = client[\"icd11\"]\n",
    "id2title_col = db[\"id2title\"]\n",
    "\n",
    "\n",
    "for x in id2title_col.find():\n",
    "    id2title = x "
   ]
  },
  {
   "cell_type": "code",
   "execution_count": 9,
   "metadata": {},
   "outputs": [],
   "source": [
    "#id2title"
   ]
  },
  {
   "cell_type": "code",
   "execution_count": null,
   "metadata": {},
   "outputs": [],
   "source": []
  }
 ],
 "metadata": {
  "kernelspec": {
   "display_name": "Python 3",
   "language": "python",
   "name": "python3"
  },
  "language_info": {
   "codemirror_mode": {
    "name": "ipython",
    "version": 3
   },
   "file_extension": ".py",
   "mimetype": "text/x-python",
   "name": "python",
   "nbconvert_exporter": "python",
   "pygments_lexer": "ipython3",
   "version": "3.7.3"
  }
 },
 "nbformat": 4,
 "nbformat_minor": 2
}
