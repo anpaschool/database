{
 "cells": [
  {
   "cell_type": "markdown",
   "metadata": {},
   "source": [
    "### MongoDB Populate"
   ]
  },
  {
   "cell_type": "code",
   "execution_count": 1,
   "metadata": {},
   "outputs": [],
   "source": [
    "import pymongo\n",
    "import json"
   ]
  },
  {
   "cell_type": "code",
   "execution_count": 2,
   "metadata": {},
   "outputs": [],
   "source": [
    "client = pymongo.MongoClient(\"mongodb://localhost:27017/\")"
   ]
  },
  {
   "cell_type": "code",
   "execution_count": 3,
   "metadata": {},
   "outputs": [],
   "source": [
    "#client.drop_database('icd11')"
   ]
  },
  {
   "cell_type": "code",
   "execution_count": 4,
   "metadata": {},
   "outputs": [],
   "source": [
    "db = client[\"icd11\"]\n",
    "col = db[\"icd_merged\"]\n",
    "id2title_col = db['id2title']\n",
    "id2code_col = db['id2code']\n",
    "id2index_col = db['id2index']\n",
    "id2defn_col = db['id2defn']\n",
    "id2pcs_col = db['id2pcs']"
   ]
  },
  {
   "cell_type": "markdown",
   "metadata": {},
   "source": [
    "### Incert MMS data"
   ]
  },
  {
   "cell_type": "code",
   "execution_count": 5,
   "metadata": {},
   "outputs": [],
   "source": [
    "with open(\"../data/ICD11_MERGED.json\", \"r\") as f:\n",
    "    MERGED = json.load(f)"
   ]
  },
  {
   "cell_type": "code",
   "execution_count": 6,
   "metadata": {},
   "outputs": [],
   "source": [
    "x = mms_col.insert_many(MERGED)\n",
    "#print(x.inserted_ids) "
   ]
  },
  {
   "cell_type": "code",
   "execution_count": 7,
   "metadata": {},
   "outputs": [
    {
     "name": "stdout",
     "output_type": "stream",
     "text": [
      "{'_id': ObjectId('5d9f7fc9e6b5c129e9edb81e'), 'mms_parents': ['1143554706'], 'mms_id': '1192168487', 'mms_title': 'Family history of consanguinity', 'fd_defn': 'NA', 'fd_parents': ['1143554706'], 'mms_code': 'QC68', 'mms_has_parents': 1, 'mms_childs': [], 'fd_has_children': 0, 'fd_childs': [], 'mms_has_children': 0, 'fd_has_parents': 1, 'mms_index': [{'indexTerm_foundation_id': 'NA', 'indexTerm_title': 'Family history of consanguinity'}], 'mms_is_leaf_node': True, 'mms_defn': 'NA', 'fd_id': '1192168487', 'fd_is_leaf_node': True, 'fd_title': 'Family history of consanguinity', 'mms_pcs': []}\n"
     ]
    }
   ],
   "source": [
    "x = mms_col.find_one()\n",
    "print(x) "
   ]
  },
  {
   "cell_type": "markdown",
   "metadata": {},
   "source": [
    "### Incert Mapping Tables"
   ]
  },
  {
   "cell_type": "code",
   "execution_count": 8,
   "metadata": {},
   "outputs": [],
   "source": [
    "with open(\"../data/id2code.json\", \"r\") as f1:\n",
    "    id2code = json.load(f1)"
   ]
  },
  {
   "cell_type": "code",
   "execution_count": 9,
   "metadata": {},
   "outputs": [
    {
     "name": "stdout",
     "output_type": "stream",
     "text": [
      "5d9f7fefe6b5c129e9ee3b47\n"
     ]
    }
   ],
   "source": [
    "x = id2code_col.insert_one(id2code)\n",
    "print(x.inserted_id) "
   ]
  },
  {
   "cell_type": "code",
   "execution_count": 10,
   "metadata": {},
   "outputs": [
    {
     "name": "stdout",
     "output_type": "stream",
     "text": [
      "5d9f7ff0e6b5c129e9ee3b48\n"
     ]
    }
   ],
   "source": [
    "with open(\"../data/id2title.json\", \"r\") as f2:\n",
    "    id2title = json.load(f2)\n",
    "x = id2title_col.insert_one(id2title)\n",
    "print(x.inserted_id) "
   ]
  },
  {
   "cell_type": "code",
   "execution_count": 11,
   "metadata": {},
   "outputs": [
    {
     "name": "stdout",
     "output_type": "stream",
     "text": [
      "5d9f7ff0e6b5c129e9ee3b49\n"
     ]
    }
   ],
   "source": [
    "with open(\"../data/id2title.json\", \"r\") as f3:\n",
    "    id2title = json.load(f3)\n",
    "x = id2title_col.insert_one(id2title)\n",
    "print(x.inserted_id) "
   ]
  },
  {
   "cell_type": "code",
   "execution_count": 12,
   "metadata": {},
   "outputs": [
    {
     "name": "stdout",
     "output_type": "stream",
     "text": [
      "5d9f7ff1e6b5c129e9ee3b4a\n"
     ]
    }
   ],
   "source": [
    "with open(\"../data/id2index.json\", \"r\") as f4:\n",
    "    id2index = json.load(f4)\n",
    "x = id2index_col.insert_one(id2index)\n",
    "print(x.inserted_id) "
   ]
  },
  {
   "cell_type": "code",
   "execution_count": 13,
   "metadata": {},
   "outputs": [
    {
     "name": "stdout",
     "output_type": "stream",
     "text": [
      "5d9f7ff2e6b5c129e9ee3b4b\n"
     ]
    }
   ],
   "source": [
    "with open(\"../data/id2defn.json\", \"r\") as f5:\n",
    "    id2defn = json.load(f5)\n",
    "x = id2defn_col.insert_one(id2defn)\n",
    "print(x.inserted_id) "
   ]
  },
  {
   "cell_type": "code",
   "execution_count": 14,
   "metadata": {},
   "outputs": [
    {
     "name": "stdout",
     "output_type": "stream",
     "text": [
      "5d9f7ff4e6b5c129e9ee3b4c\n"
     ]
    }
   ],
   "source": [
    "with open(\"../data/id2pcs.json\", \"r\") as f6:\n",
    "    id2pcs = json.load(f6)\n",
    "x = id2pcs_col.insert_one(id2pcs)\n",
    "print(x.inserted_id) "
   ]
  },
  {
   "cell_type": "markdown",
   "metadata": {},
   "source": [
    "-----------------"
   ]
  },
  {
   "cell_type": "code",
   "execution_count": null,
   "metadata": {},
   "outputs": [],
   "source": []
  },
  {
   "cell_type": "code",
   "execution_count": null,
   "metadata": {},
   "outputs": [],
   "source": []
  },
  {
   "cell_type": "code",
   "execution_count": null,
   "metadata": {},
   "outputs": [],
   "source": []
  },
  {
   "cell_type": "code",
   "execution_count": null,
   "metadata": {},
   "outputs": [],
   "source": []
  },
  {
   "cell_type": "code",
   "execution_count": null,
   "metadata": {},
   "outputs": [],
   "source": []
  },
  {
   "cell_type": "code",
   "execution_count": null,
   "metadata": {},
   "outputs": [],
   "source": []
  },
  {
   "cell_type": "code",
   "execution_count": null,
   "metadata": {},
   "outputs": [],
   "source": []
  },
  {
   "cell_type": "code",
   "execution_count": null,
   "metadata": {},
   "outputs": [],
   "source": []
  },
  {
   "cell_type": "code",
   "execution_count": null,
   "metadata": {},
   "outputs": [],
   "source": []
  },
  {
   "cell_type": "code",
   "execution_count": null,
   "metadata": {},
   "outputs": [],
   "source": []
  }
 ],
 "metadata": {
  "kernelspec": {
   "display_name": "Python 3",
   "language": "python",
   "name": "python3"
  },
  "language_info": {
   "codemirror_mode": {
    "name": "ipython",
    "version": 3
   },
   "file_extension": ".py",
   "mimetype": "text/x-python",
   "name": "python",
   "nbconvert_exporter": "python",
   "pygments_lexer": "ipython3",
   "version": "3.7.3"
  }
 },
 "nbformat": 4,
 "nbformat_minor": 2
}
